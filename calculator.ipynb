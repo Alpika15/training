{
 "cells": [
  {
   "cell_type": "code",
   "execution_count": 11,
   "metadata": {},
   "outputs": [
    {
     "name": "stdout",
     "output_type": "stream",
     "text": [
      "the substraction is:  29\n"
     ]
    }
   ],
   "source": [
    "a=int(input(\"enter a value: \"))\n",
    "b=int(input(\"enter a value: \"))\n",
    "c=input(\"operator\")\n",
    "if c=='+':\n",
    "    z=a+b\n",
    "    print(\"the addition is: \",z)\n",
    "elif c=='-':\n",
    "    z=a-b\n",
    "    print(\"the substraction is: \",z)\n",
    "elif c=='*':\n",
    "    z=a*b\n",
    "    print(\"the multiplication is: \",z)\n",
    "elif c=='/':\n",
    "    z=a/b\n",
    "    print(\"the divide is: \",z)\n",
    "else:\n",
    "    print(\"the operator is not valid\")"
   ]
  },
  {
   "cell_type": "code",
   "execution_count": null,
   "metadata": {},
   "outputs": [],
   "source": []
  }
 ],
 "metadata": {
  "language_info": {
   "name": "python"
  }
 },
 "nbformat": 4,
 "nbformat_minor": 2
}
