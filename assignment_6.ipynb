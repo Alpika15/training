{
 "cells": [
  {
   "cell_type": "markdown",
   "metadata": {},
   "source": [
    "### -->1. Given an array a = np.array([10, 20, 30, 40, 50]) and an indexing array i = np.array([0, 1, 3]) , use fancy indexing to extract elements and assign new values to them."
   ]
  },
  {
   "cell_type": "code",
   "execution_count": 1,
   "metadata": {},
   "outputs": [],
   "source": [
    "import numpy as np"
   ]
  },
  {
   "cell_type": "code",
   "execution_count": 3,
   "metadata": {},
   "outputs": [
    {
     "name": "stdout",
     "output_type": "stream",
     "text": [
      "Extracted elements: [10 20 40]\n"
     ]
    }
   ],
   "source": [
    "# Extract elements using fancy indexing\n",
    "a = np.array([10, 20, 30, 40, 50])\n",
    "i = np.array([0, 1, 3])\n",
    "extracted_elements = a[i]\n",
    "print(\"Extracted elements:\", extracted_elements)"
   ]
  },
  {
   "cell_type": "code",
   "execution_count": 9,
   "metadata": {},
   "outputs": [
    {
     "name": "stdout",
     "output_type": "stream",
     "text": [
      "Array after assigning values: [15 25 35 45 55]\n"
     ]
    }
   ],
   "source": [
    "# Assign new values to the selected elements\n",
    "new_values = np.array([15, 25, 35, 45, 55])\n",
    "a = new_values\n",
    "print(\"Array after assigning values:\", a)"
   ]
  },
  {
   "cell_type": "markdown",
   "metadata": {},
   "source": [
    "### -->2. Create 4*4 matrix and compute the sum of all elements, the sum of each column, and the sum of each row."
   ]
  },
  {
   "cell_type": "markdown",
   "metadata": {},
   "source": [
    "Matrix\n",
    "[[ 1  2  3  4]\n",
    "[ 5  6  7  8]\n",
    "[ 9 10 11 12]\n",
    "[13 14 15 16]]\n",
    "Sum of all elements: 136\n",
    "Sum of each column: [28 32 36 40]\n",
    "Sum of each row: [10 26 42 58]\n"
   ]
  },
  {
   "cell_type": "code",
   "execution_count": 19,
   "metadata": {},
   "outputs": [
    {
     "name": "stdout",
     "output_type": "stream",
     "text": [
      "Matrix: [[ 1  2  3  4]\n",
      " [ 5  6  7  8]\n",
      " [ 9 10 11 12]\n",
      " [13 14 15 16]]\n",
      "Sum of all elements: 136\n",
      "Sum of each column: [28 32 36 40]\n",
      "Sum of each row: [10 26 42 58]\n"
     ]
    }
   ],
   "source": [
    "\n",
    "# Create a 4x4 matrix\n",
    "m = np.array([\n",
    "[ 1, 2, 3, 4],\n",
    "[5, 6, 7, 8],\n",
    "[9, 10, 11, 12],\n",
    "[13, 14, 15, 16]])\n",
    "\n",
    "total_sum = np.sum(m)                      #Compute the sum of all elements\n",
    "column_sum = np.sum(m, axis=0)            #Compute the sum of each column\n",
    "row_sum = np.sum(m, axis=1)               #Compute the sum of each row\n",
    "print(\"Matrix:\", m)                         #Print the results\n",
    "print(\"Sum of all elements:\", total_sum),\n",
    "print(\"Sum of each column:\", column_sum),\n",
    "print(\"Sum of each row:\", row_sum)\n"
   ]
  },
  {
   "cell_type": "markdown",
   "metadata": {},
   "source": [
    "### -->3.Given a 3-D array of shape (3, 4, 5), slice out a sub-array that, contains the last two rows and columns of the last two matrices.\n",
    "   ]"
   ]
  },
  {
   "cell_type": "code",
   "execution_count": 27,
   "metadata": {},
   "outputs": [
    {
     "name": "stdout",
     "output_type": "stream",
     "text": [
      "Original array: [[[ 0  1  2  3  4]\n",
      "  [ 5  6  7  8  9]\n",
      "  [10 11 12 13 14]\n",
      "  [15 16 17 18 19]]\n",
      "\n",
      " [[20 21 22 23 24]\n",
      "  [25 26 27 28 29]\n",
      "  [30 31 32 33 34]\n",
      "  [35 36 37 38 39]]\n",
      "\n",
      " [[40 41 42 43 44]\n",
      "  [45 46 47 48 49]\n",
      "  [50 51 52 53 54]\n",
      "  [55 56 57 58 59]]]\n",
      "Sub-array with the last two rows and columns of the last two matrices: [[[13 14]\n",
      "  [18 19]]\n",
      "\n",
      " [[33 34]\n",
      "  [38 39]]\n",
      "\n",
      " [[53 54]\n",
      "  [58 59]]]\n"
     ]
    }
   ],
   "source": [
    "array_3d = np.arange(60).reshape(3, 4, 5)                        #Create a 3-D array\n",
    "print(\"Original array:\", array_3d)   #Slice out the sub-array containing the last two rows and columns of the last two matrices\n",
    "sub_array = array_3d[:, -2:, -2:]\n",
    "print(\"Sub-array with the last two rows and columns of the last two matrices:\", sub_array)"
   ]
  }
 ],
 "metadata": {
  "kernelspec": {
   "display_name": "Python 3",
   "language": "python",
   "name": "python3"
  },
  "language_info": {
   "codemirror_mode": {
    "name": "ipython",
    "version": 3
   },
   "file_extension": ".py",
   "mimetype": "text/x-python",
   "name": "python",
   "nbconvert_exporter": "python",
   "pygments_lexer": "ipython3",
   "version": "3.11.5"
  }
 },
 "nbformat": 4,
 "nbformat_minor": 2
}
